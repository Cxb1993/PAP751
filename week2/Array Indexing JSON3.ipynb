{
 "metadata": {
  "name": ""
 },
 "nbformat": 3,
 "nbformat_minor": 0,
 "worksheets": [
  {
   "cells": [
    {
     "cell_type": "markdown",
     "metadata": {},
     "source": [
      "$$\n",
      "\\newcommand{\\fudm}[2]{\\frac{\\mathrm{D} #1}{\\mathrm{D} #2}}\n",
      "\\newcommand{\\pad}[2]{\\frac{\\partial #1}{\\partial #2}}\n",
      "\\newcommand{\\ppad}[2]{\\frac{\\partial^2 #1}{\\partial #2^2}}\n",
      "\\newcommand{\\ppadd}[3]{\\frac{\\partial^2 #1}{\\partial #2 \\partial #3}}\n",
      "\\newcommand{\\nnabla}{\\nabla^2}\n",
      "\\newcommand{\\eps}{\\epsilon}\n",
      "\\newcommand{\\vdetail}[1]{\\vb{#1}=\\begin{pmatrix}#1_1\\\\#1_2\\\\#1_3\\end{pmatrix}}\n",
      "\\newcommand{\\vb}[1]{\\mathbf{#1}}\n",
      "\\newcommand{\\va}[1]{\\vec{#1}}\n",
      "\\newcommand{\\tb}[1]{\\underline{\\underline{\\mathbf{#1}}}}\n",
      "\\newcommand{\\fud}[2]{\\frac{\\mathrm{d} #1}{\\mathrm{d} #2}}\n",
      "$$"
     ]
    },
    {
     "cell_type": "markdown",
     "metadata": {},
     "source": [
      "#Parallizing array operations\n",
      "\n",
      "Array operation can be done through indices or using the \"parallel\" array notation. The first example use the equation\n",
      "\n",
      "$$u^{n+1}_i = u^n_i-u^n_{i-1}$$\n"
     ]
    },
    {
     "cell_type": "code",
     "collapsed": false,
     "input": [
      "import numpy as np\n",
      "u = np.linspace(0,5,10000)\n",
      "k1 = k2 = np.zeros(len(u)-1)"
     ],
     "language": "python",
     "metadata": {},
     "outputs": [],
     "prompt_number": 19
    },
    {
     "cell_type": "code",
     "collapsed": false,
     "input": [
      "%%timeit\n",
      "#print len(u)\n",
      "for i in range(1,len(u)):\n",
      "    k1[i-1]=u[i]-u[i-1]\n",
      "#print k1"
     ],
     "language": "python",
     "metadata": {},
     "outputs": [
      {
       "output_type": "stream",
       "stream": "stdout",
       "text": [
        "100 loops, best of 3: 7.21 ms per loop\n"
       ]
      }
     ],
     "prompt_number": 22
    },
    {
     "cell_type": "code",
     "collapsed": false,
     "input": [
      "%%timeit\n",
      "k2=u[1:]-u[0:-1]"
     ],
     "language": "python",
     "metadata": {},
     "outputs": [
      {
       "output_type": "stream",
       "stream": "stdout",
       "text": [
        "100000 loops, best of 3: 6.95 \u00b5s per loop\n"
       ]
      }
     ],
     "prompt_number": 24
    },
    {
     "cell_type": "code",
     "collapsed": false,
     "input": [
      "print k1\n",
      "print k2"
     ],
     "language": "python",
     "metadata": {},
     "outputs": [
      {
       "output_type": "stream",
       "stream": "stdout",
       "text": [
        "[ 0.5  0.5  0.5  0.5  0.5  0.5  0.5  0.5  0.5  0.5]\n",
        "[ 0.5  0.5  0.5  0.5  0.5  0.5  0.5  0.5  0.5  0.5]\n"
       ]
      }
     ],
     "prompt_number": 7
    },
    {
     "cell_type": "markdown",
     "metadata": {},
     "source": [
      "Now we try to implement this array indexing technique to our last week's example of the advection equation \n",
      "$$\\pad{u}{t}+c\\pad{u}{x}=0$$\n",
      "\n",
      "which was converted into a \n",
      "\n",
      "$$u_i^{n+1} = u_i^n - c \\frac{\\Delta t}{\\Delta x}(u_i^n-u_{i-1}^n)$$"
     ]
    },
    {
     "cell_type": "code",
     "collapsed": false,
     "input": [
      "nx = 110  # try changing this number from 41 to 81 and Run All ... what happens?\n",
      "dx = 2./(nx-1)\n",
      "nt = 250    #nt is the number of timesteps we want to calculate\n",
      "dt = .00025  #dt is the amount of time each timestep covers (delta t)\n",
      "c = 1.      #assume wavespeed of c = 1"
     ],
     "language": "python",
     "metadata": {},
     "outputs": [],
     "prompt_number": 31
    },
    {
     "cell_type": "markdown",
     "metadata": {},
     "source": [
      "Conventional method"
     ]
    },
    {
     "cell_type": "code",
     "collapsed": false,
     "input": [
      "%%timeit\n",
      "u=un=np.ones(nx)      #numpy function ones()\n",
      "u[.5/dx : 1/dx+1]=-1  #setting u = 2 between 0.5 and 1 as per our I.C.s\n",
      "\n",
      "for n in range(nt):  #loop for values of n from 0 to nt, so it will run nt times\n",
      "    un = u.copy()    #copy the existing values of u into un\n",
      "    for i in range(1,nx): #starts the range with 1\n",
      "        u[i] = un[i]-c*dt/dx*(un[i]-un[i-1])\n",
      "#print u"
     ],
     "language": "python",
     "metadata": {},
     "outputs": [
      {
       "output_type": "stream",
       "stream": "stdout",
       "text": [
        "10 loops, best of 3: 39.3 ms per loop\n"
       ]
      }
     ],
     "prompt_number": 32
    },
    {
     "cell_type": "markdown",
     "metadata": {},
     "source": [
      "Parallel array index"
     ]
    },
    {
     "cell_type": "code",
     "collapsed": false,
     "input": [
      "%%timeit\n",
      "u=un=np.ones(nx)      #numpy function ones()\n",
      "u[.5/dx : 1/dx+1]=-1  #setting u = 2 between 0.5 and 1 as per our I.C.s\n",
      "\n",
      "for n in range(nt):  #loop for values of n from 0 to nt, so it will run nt times\n",
      "    un = u.copy()    #copy the existing values of u into un\n",
      "    u[1:] = un[1:]-c*dt/dx*(un[1:]-un[0:-1])\n",
      "#print u    "
     ],
     "language": "python",
     "metadata": {},
     "outputs": [
      {
       "output_type": "stream",
       "stream": "stdout",
       "text": [
        "1000 loops, best of 3: 1.58 ms per loop\n"
       ]
      }
     ],
     "prompt_number": 33
    },
    {
     "cell_type": "code",
     "collapsed": false,
     "input": [],
     "language": "python",
     "metadata": {},
     "outputs": []
    }
   ],
   "metadata": {}
  }
 ]
}