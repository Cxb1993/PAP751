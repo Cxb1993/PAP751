{
 "cells": [
  {
   "cell_type": "markdown",
   "metadata": {},
   "source": [
    "# Introduction to Computational Fluid Mechanics (CFD) with IPython\n",
    "\n",
    "This course provides an introduction to various techniques used in computational fluid mechanics for incompressible 2-dimensional viscous flow and ideal flow in 2d and axisymmetry. Currently as of **1.12.2015**, the course covers finite difference and finite volume methods to solve the incompresible Navier Stokes equation in 2 dimensions, as well as the boundary element method in 2d and in axisymmetry. Following this course you will become aquainted with the inner workings of these three CFD techniques. We make heavy use of resources from our colleagues, in particular the excellent starter course of [Prof Barba (12 Steps to Navier Stoke)](http://lorenabarba.com/blog/cfd-python-12-steps-to-navier-stokes/), the public chapters from [Prof WT Ang](http://www.ntu.edu.sg/home/mwtang/bem2011.html) on the boundary element method, and the great tutorial on finite volumes and multiphase flows by [Prof Tryggvason](http://www3.nd.edu/~gtryggva/MultiphaseDNS/index.html). All parts of this course utilize Python, in particular IPython using the Jupyter web interface.\n",
    "The strength of this course is that all the algebra is covered directly with some easy to read code. You can see one-to-one how a formula is coded and the result of the program. IPython allows to show everything on one web page and even lets you modify the program on the go. If you set up a webserver you can run Ipython from any modern web browser and let the server do the computation. Instructions to set it up for Linux/MacOS/Windows [are available here](Installing Python and iPython notebook.ipynb). Please note, the programs shown here are not optimized for speed but for clarity. Although functional they do not compare well with any specialized package. \n",
    "\n",
    "## 1. Finite Difference Method for Navier Stokes Equations \n",
    "\n",
    "The finite difference method is the most accessible method to write partial differential equations in a computerized form. The equations can be solved explictly where the solution for a particular computational node is available through some algebra from the surrounding nodes. Implicit methods in contrast need to solve a large number of equations as many nodes must me solved simultaneously. This is typically done by rewriting the equations as a matrix equation and inverting the matrix. In this course we use mostly explicit techniques. The best way is likely to go one after another. If you have already a background in the numerical technque of finite differences but you want to understand the specific implementation of the Navier Stokes equation you may want to skip the first few steps of chapter 1.1. \n",
    "\n",
    "### 1.1 Twelve steps to Navier-Stokes \n",
    "To get started please [follow](http://lorenabarba.com/blog/cfd-python-12-steps-to-navier-stokes/) the excellent introduction of Prof Barba of **12 steps to Navier-Stokes**.\n",
    "The course ends with a velocity pressure formulation of the Navier-Stokes Equations. She introduces simple grids where the pressure and velocity is defined at the center of the grid. We continue to use this geometry for the rest of the finite difference method below.\n",
    "\n",
    "### 1.2 von Neumann stability analysis \n",
    "Using the diffusion equation as an example the [stability of the numerical method](Finite Difference Techniques/04_Stability analysis of numerical solutions to the diffusion equation.ipynb) is studied analytically with the *von Neumann* method. Both explicit and implict methods are discussed.\n",
    "\n",
    "### 1.3 Pressure velocity formulation\n",
    "This is repeated from Prof Barba's course, yet with a more solid boundary condition for the [pressure velocity formulation](Finite Difference Techniques/06_velocity pressure formulation.ipynb).\n",
    "\n",
    "### 1.4 Pressure Poisson equation\n",
    "Solving the pressure equations is computationaly the most costly part. There are various strategies to solve the Laplace and Poisson equation. A discussion of various techniques and example codes are provided [in this notebook](Finite Difference Techniques/08_Laplace & Poisson Equation - Iterative Methods.ipynb). Please feel free to use the snippets and improve the solver from Chapter 1.3.\n",
    "\n",
    "### 1.5 Vorticty streamfunction formulation\n",
    "Besides the velocity pressure formulation we can write the incompressible Navier-Stokes equations in 2 dimensions with the [streamfunction and the vorticity](05_vorticity_streamfunction.ipynb). This formulations removes the pressure Poisson equation at the cost of an increase in complexity for the boundary conditions. "
   ]
  },
  {
   "cell_type": "markdown",
   "metadata": {},
   "source": [
    "## 2. Finite Volume Method for Multiphase Navier Stokes\n",
    "\n"
   ]
  },
  {
   "cell_type": "markdown",
   "metadata": {
    "collapsed": true
   },
   "source": [
    "## 3. Boundary Element Method for Ideal Flows\n",
    "\n",
    "The boundary element method is one of the most computationally efficient methods of solving boundary value partial differential equations. \n",
    "\n",
    "Methods like finite differences and the finite volume method require all the discretised points in a computational domain to be solved at once. With the boundary element method, only the points on the *boundary* of the domain are discretised. This makes the BEM extremely useful in applications where large or infinite domains are required. Implementation-wise, it is also relatively simple to code and debug, certainly as compared to the finite volume method, where (at a guess) one has to discretise about 50 derivatives. \n",
    "\n",
    "There are several big downsides of the BEM, however. First, one has to work with homogeneous, linear PDEs with a known fundamental solution. In fluid dynamics, this equation is the Laplace equation $\\nabla^2 \\phi = 0$, which holds in the case that the liquid is inviscid and incompressible. The second is that the integrals that are solved in BEM are often singular, meaning that the solution often blows up to infinity. It is a bit of an art to handle these singularities. \n",
    "\n",
    "In these notebooks we show the basics of the BEM solution under 2D Cartesian coordinates and axisymmetry. Here we have only solved well-behaved problems, so there is no treatment of singular integrals. The notation we use is based on chapter 1 of [Ang Whye Teong's textbook](http://www.ntu.edu.sg/home/mwtang/bem2011.html) (this chapter is available for free on his Web site). The codes are ports of Fortran codes written by Ang Whye Teong and Pablo Suarez. \n",
    "\n",
    "### 3.1 Laplace equation in 2D\n",
    "\n",
    "Start with [this notebook](Boundary%20Element%20Method/Introduction%20Laplace.ipynb) to learn more about solving the two-dimensional Laplace equation. The notebook follows Ang closely and describes the discretisation of the boundary and the setup of the solution matrix. It is recommended to start with this notebook even if you want to work in another geometry eventually, since much of the solution scheme is common to all BEM solutions. The main changes lie in geometry-unique integrals. \n",
    "\n",
    "### 3.2 Laplace equation in axisymmetry\n",
    "\n",
    "The solution of the Laplace equation in axisymmetry is solved in a similar fashion, except that to derive the integrals for solution one must start with the 3D Laplace equation and generalise it to cylindrical coordinates. The full mathematical details are available in this [set of notes from Ang](http://www.ntu.edu.sg/home/mwtang/axisbem.pdf). "
   ]
  }
 ],
 "metadata": {
  "kernelspec": {
   "display_name": "Python 2",
   "language": "python",
   "name": "python2"
  },
  "language_info": {
   "codemirror_mode": {
    "name": "ipython",
    "version": 2
   },
   "file_extension": ".py",
   "mimetype": "text/x-python",
   "name": "python",
   "nbconvert_exporter": "python",
   "pygments_lexer": "ipython2",
   "version": "2.7.10"
  }
 },
 "nbformat": 4,
 "nbformat_minor": 0
}
