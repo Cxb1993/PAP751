{
 "cells": [
  {
   "cell_type": "markdown",
   "metadata": {},
   "source": [
    "# Installing Python and Jupyter (iPython) notebook\n",
    "\n",
    "This is a quick guide to getting started with installing Python and the Jupyter (formerly iPython) notebook interface. "
   ]
  },
  {
   "cell_type": "markdown",
   "metadata": {},
   "source": [
    "### Mac OS and Linux\n",
    "Although Python comes standard with OS X and Linux, not all the packages required might come with the OS. The packages we use are `numpy` (mathematical operations), `scipy` (a full scientific package of which `numpy` is a subset), `matplotlib` (graphical plotting) and `jupyter` (for the notebook interface). \n",
    "\n",
    "The main installation options are to\n",
    "\n",
    "* Install the packages individually using the Python package manager: `pip install scipy numpy matplotlib jupyter`\n",
    "* On Linux-based systems it is probably best to use the system package manager, `apt-get` on Ubuntu-based systems or `yum` on Red Hat / Fedora based systems. [Installation instructions for `scipy`, `numpy` and `matplotlib` are available here.](http://www.scipy.org/install.html)\n",
    "* Install a second Python distribution like Anaconda or Canopy that will sit side by side with the system's Python. This is probably the best solution for Mac OS users, since the installers are in a graphical user interface. \n",
    "\n",
    "To run the notebook, open a command line window and\n",
    "\n",
    "* Change directory to a folder where you want to keep the notebooks with `cd (path)`. If you are using a desktop GUI and don't know the path you can usually drag and drop the folder into the command-line window to retrieve the path.\n",
    "* Launch the notebook with `ipython notebook` or `jupyter notebook` (either will work). \n",
    "\n",
    "The app runs a local web server and launches the notebook interface, which is by default at the address [http://localhost:8888](http://localhost:8888).\n",
    "\n",
    "### Windows\n",
    "Python doesn't come standard with any version of Windows. Although the official Python website has an installer for Windows, we instead recommend installing the free [Anaconda](https://www.continuum.io/downloads) or [Enthought Canopy](https://www.enthought.com/products/canopy/) distributions for Python. These packages incorporate the scientific packages required for the course. The installation is in a graphical user interface and thus easy to use.  \n",
    "\n",
    "To run Jupyter notebook, search the Start menu for an app called Jupyter Notebook or iPython Notebook. The app runs a local web server and then launches a web browser window, which is by default at the address [http://localhost:8888](http://localhost:8888). \n",
    "\n",
    "### Official documentation\n",
    "\n",
    "If you need more help or specific instructions, more information about [installing Jupyter is available here](https://media.readthedocs.org/pdf/jupyter-notebook-beginner-guide/latest/jupyter-notebook-beginner-guide.pdf)."
   ]
  }
 ],
 "metadata": {
  "kernelspec": {
   "display_name": "Python 2",
   "language": "python",
   "name": "python2"
  },
  "language_info": {
   "codemirror_mode": {
    "name": "ipython",
    "version": 2
   },
   "file_extension": ".py",
   "mimetype": "text/x-python",
   "name": "python",
   "nbconvert_exporter": "python",
   "pygments_lexer": "ipython2",
   "version": "2.7.9"
  }
 },
 "nbformat": 4,
 "nbformat_minor": 0
}
