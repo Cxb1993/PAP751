{
 "cells": [
  {
   "cell_type": "markdown",
   "metadata": {},
   "source": [
    "$$\n",
    "\\newcommand{\\fudm}[2]{\\frac{\\mathrm{D} #1}{\\mathrm{D} #2}}\n",
    "\\newcommand{\\pad}[2]{\\frac{\\partial #1}{\\partial #2}}\n",
    "\\newcommand{\\ppad}[2]{\\frac{\\partial^2 #1}{\\partial #2^2}}\n",
    "\\newcommand{\\ppadd}[3]{\\frac{\\partial^2 #1}{\\partial #2 \\partial #3}}\n",
    "\\newcommand{\\nnabla}{\\nabla^2}\n",
    "\\newcommand{\\eps}{\\epsilon}\n",
    "\\newcommand{\\vdetail}[1]{\\vb{#1}=\\begin{pmatrix}#1_1\\\\#1_2\\\\#1_3\\end{pmatrix}}\n",
    "\\newcommand{\\vb}[1]{\\mathbf{#1}}\n",
    "\\newcommand{\\va}[1]{\\vec{#1}}\n",
    "\\newcommand{\\tb}[1]{\\underline{\\underline{\\mathbf{#1}}}}\n",
    "\\newcommand{\\fud}[2]{\\frac{\\mathrm{d} #1}{\\mathrm{d} #2}}\n",
    "$$"
   ]
  },
  {
   "cell_type": "markdown",
   "metadata": {},
   "source": [
    "# Volume of Fluid Solver\n",
    "Here we will develop a fluid solver using the volume of fluid (VOF) method for a simple multiphase flow. Multiphase flows are flows consisting of fluid with different fluids, i.e. different densities and viscosities. They may also have an interfacial tension between the phases. We will start with 2-dimensional VOF solver which allows only for difference in density and is incompressible.\n",
    "\n",
    "Therefore the N.S. equation is\n",
    "\n",
    "$$\\rho \\pad{\\vb{u}}{t}+\\rho (\\nabla \\cdot \\vb{u})\\vb{u}=-\\nabla p +\\rho \\vb{g} +\\mu_0\\nabla^2\\vb{u}\\quad .$$\n",
    "\n",
    "The viscosity of both phases of the fluid is $\\mu_0$. Please note the use of the gravity to accelerate the fluid. Additionally we require incompressibility:\n",
    "\n",
    "$$\\nabla\\cdot\\vb{u}=0$$\n",
    "\n",
    "Besides the VOF method the present approach makes use of number of improvements/changes as compared to our previous pressure/velocity formulation. In particular we use a different grid where the two velocity, pressures and \n",
    "\n",
    "##Integration in time\n",
    "\n",
    "The time integration is done by a two-step calculation, first the velocity field is calculated ignoring the pressure and the the pressure is added. This is similar to the previous velocity-pressure formulation, yet now we separate the discrete operators for advection $\\vb{A}$ and diffusion $\\vb{D}$.\n",
    "\n",
    "$$\\frac{\\vb{u}^*-\\vb{u}^n}{\\Delta t}=-\\vb{A}^n+\\vb{g}+\\frac{1}{\\rho^n}\\vb{D}^n$$\n",
    "\n",
    "The pressure is introduced in a second step\n",
    "\n",
    "$$\\frac{\\vb{u}^{n+1}-\\vb{u}^*}{\\Delta t}=-\\frac{\\nabla_h p}{\\rho^n}\\quad .$$\n",
    "\n",
    "$\\nabla_h$ is the discrete operator for the gradient. If you add above two equations you obtain a discrete form of the N.S. equation. The pressure needs to be obtained in such a way that the final velocity field is divergent free, $\\nabla_h\\cdot\\vb{u}^{n+1}=0$. \n",
    "The equation to calculate an appropriate pressure field is obtained by taking the divergent of above second step and accounting for the divergent free velocity field $\\vb{u}^{n+1}$.\n",
    "\n",
    "$$\\nabla_h\\cdot\\left(\\frac{1}{\\rho^n}\\nabla_h p\\right)=\\frac{1}{\\Delta t}\\nabla_h\\cdot\\vb{u}^*$$\n",
    "\n",
    "##VOF discretization\n",
    "The conservation principles in the VOF method are applied on small control volumes. The physical quantities are averaged over the volue, e.g. the average velocity in a controll volume is \n",
    "\n",
    "$$ \\vb{u}=\\frac{1}{V}\\int_V \\vb{u}(\\vb{x})\\,dV\\quad.$$\n",
    "\n",
    "The same holds for the advection operator $\\vb{A}$.\n",
    "\n",
    "$$ \\vb{A}=\\frac{1}{\\rho}\\int_V(\\nabla\\cdot\\vb{u})\\vb{u}\\,dV=\n",
    "\\frac{1}{V}\\oint_S (\\vb{u}\\cdot\\vb{n})\\vb{u}\\,dS$$\n",
    "\n",
    "We have used Gauss theorem to transform the volume into surface integrals.\n",
    "The diffusion operator $\\vb{D}$ transforms similarily:\n",
    "\n",
    "$$\\vb{D}=\\frac{\\mu_0}{V}\\int_V \\nabla^2 \\vb{u} \\, dV=\n",
    "\\frac{\\mu_0}{V}\\int_V \\nabla\\cdot\\nabla \\vb{u} \\, dV=\n",
    "\\frac{\\mu_0}{V}\\oint_S \\vb{n}\\cdot\\nabla \\vb{u} \\, dS$$\n",
    "\n",
    "At last we need to integrate the gradient of the pressure over the volume/surface:\n",
    "\n",
    "$$\\nabla_h p =\\frac{1}{V} \\int_V \\nabla p \\,dV = \\frac{1}{V}\\oint_S \\vb{n} p\\, dS\\quad .$$ "
   ]
  },
  {
   "cell_type": "markdown",
   "metadata": {},
   "source": []
  }
 ],
 "metadata": {
  "kernelspec": {
   "display_name": "Python 2",
   "language": "python",
   "name": "python2"
  },
  "language_info": {
   "codemirror_mode": {
    "name": "ipython",
    "version": 2
   },
   "file_extension": ".py",
   "mimetype": "text/x-python",
   "name": "python",
   "nbconvert_exporter": "python",
   "pygments_lexer": "ipython2",
   "version": "2.7.10"
  }
 },
 "nbformat": 4,
 "nbformat_minor": 0
}
