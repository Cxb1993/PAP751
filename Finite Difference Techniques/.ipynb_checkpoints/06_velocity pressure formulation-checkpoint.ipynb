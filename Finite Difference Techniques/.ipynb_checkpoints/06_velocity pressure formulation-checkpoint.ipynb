{
 "cells": [
  {
   "cell_type": "markdown",
   "metadata": {
    "slideshow": {
     "slide_type": "-"
    }
   },
   "source": [
    "$$\n",
    "\\newcommand{\\fudm}[2]{\\frac{\\mathrm{D} #1}{\\mathrm{D} #2}}\n",
    "\\newcommand{\\pad}[2]{\\frac{\\partial #1}{\\partial #2}}\n",
    "\\newcommand{\\ppad}[2]{\\frac{\\partial^2 #1}{\\partial #2^2}}\n",
    "\\newcommand{\\ppadd}[3]{\\frac{\\partial^2 #1}{\\partial #2 \\partial #3}}\n",
    "\\newcommand{\\nnabla}{\\nabla^2}\n",
    "\\newcommand{\\eps}{\\epsilon}\n",
    "\\newcommand{\\vdetail}[1]{\\vb{#1}=\\begin{pmatrix}#1_1\\\\#1_2\\\\#1_3\\end{pmatrix}}\n",
    "\\newcommand{\\vb}[1]{\\mathbf{#1}}\n",
    "\\newcommand{\\va}[1]{\\vec{#1}}\n",
    "\\newcommand{\\tb}[1]{\\underline{\\underline{\\mathbf{#1}}}}\n",
    "\\newcommand{\\fud}[2]{\\frac{\\mathrm{d} #1}{\\mathrm{d} #2}}\n",
    "$$"
   ]
  },
  {
   "cell_type": "markdown",
   "metadata": {},
   "source": [
    "Navier Stokes Equations for $u$ and $v$ and the pressure poisson equation.\n",
    "\n",
    "$$\\frac{\\partial u}{\\partial t}+u\\frac{\\partial u}{\\partial x}+v\\frac{\\partial u}{\\partial y} = -\\frac{1}{\\rho}\\frac{\\partial p}{\\partial x}+\\nu \\left(\\frac{\\partial^2 u}{\\partial x^2}+\\frac{\\partial^2 u}{\\partial y^2} \\right) $$\n",
    "\n",
    "\n",
    "$$\\frac{\\partial v}{\\partial t}+u\\frac{\\partial v}{\\partial x}+v\\frac{\\partial v}{\\partial y} = -\\frac{1}{\\rho}\\frac{\\partial p}{\\partial y}+\\nu\\left(\\frac{\\partial^2 v}{\\partial x^2}+\\frac{\\partial^2 v}{\\partial y^2}\\right) $$\n",
    "\n",
    "$$\\frac{\\partial^2 p}{\\partial x^2}+\\frac{\\partial^2 p}{\\partial y^2} = -\\rho\\left(\\frac{\\partial u}{\\partial x}\\frac{\\partial u}{\\partial x}+2\\frac{\\partial u}{\\partial y}\\frac{\\partial v}{\\partial x}+\\frac{\\partial v}{\\partial y}\\frac{\\partial v}{\\partial y} \\right)$$"
   ]
  },
  {
   "cell_type": "code",
   "execution_count": null,
   "metadata": {
    "collapsed": true
   },
   "outputs": [],
   "source": [
    "from mpl_toolkits.mplot3d import Axes3D\n",
    "from matplotlib import cm\n",
    "import matplotlib.pyplot as plt\n",
    "import numpy as np\n",
    "%matplotlib inline"
   ]
  },
  {
   "cell_type": "markdown",
   "metadata": {},
   "source": [
    "We calculate the pressure field assuming that the current flow field is not divergent free, $\\nabla \\vb{u}^{n+1/2}\\neq0$. \n",
    "\n",
    "$$\\nabla^2 p^{n+1}=\\frac{\\rho}{\\Delta t}\\nabla\\cdot\\vb{u}^{n+1/2}-\\rho\\left(\\left(\\pad{u}{x}\\right)^2+2\\pad{u}{y}\\pad{v}{x}+\\left(\\pad{u}{y}\\right)^2\\right)$$\n",
    "\n",
    "which discretizes as:\n",
    "\n",
    "$$ \\frac{p_{i+1,j}^{n}-2p_{i,j}^{n}+p_{i-1,j}^{n}}{\\Delta x^2}+\\frac{p_{i,j+1}^{n}-2*p_{i,j}^{n}+p_{i,j-1}^{n}}{\\Delta y^2} \n",
    "=\\rho\\left[\\frac{1}{\\Delta t}\\left(\\frac{u_{i+1,j}-u_{i-1,j}}{2\\Delta x}+\\frac{v_{i,j+1}-v_{i,j-1}}{2\\Delta y}\\right)\\right.$$\n",
    "\n",
    "$$-\\frac{u_{i+1,j}-u_{i-1,j}}{2\\Delta x}\\frac{u_{i+1,j}-u_{i-1,j}}{2\\Delta x}\n",
    "- \\ 2\\frac{u_{i,j+1}-u_{i,j-1}}{2\\Delta y}\\frac{v_{i+1,j}-v_{i-1,j}}{2\\Delta x}\n",
    "-\\left.\\frac{v_{i,j+1}-v_{i,j-1}}{2\\Delta y}\\frac{v_{i,j+1}-v_{i,j-1}}{2\\Delta y}\\right]\n",
    "\\quad .$$\n",
    "\n",
    "##Pressure boundary conditions\n",
    "The pressure boundary conditions have to be carefully evaluated. We can write the N.S. equation as\n",
    "\n",
    "$$\n",
    "\\nabla p= \\rho \\left( -\\pad{\\vb{u}}{t}-\\vb{u}\\cdot\\nabla\\vb{u}+\\nu\\nabla^2\\vb{u}\\right)\\quad.$$\n",
    "\n",
    "Then we mutiply on both sides with the normal vector of the boundary $\\vb{n}$ and obtain a  Neumann b.c. for the pressure:\n",
    "\n",
    "$$\\vb{n}\\cdot\\nabla p=\\rho \\vb{n}\\cdot\\left( -\\pad{\\vb{u}}{t} -\\vb{u}\\cdot\\nabla\\vb{u}+\\nu\\nabla^2\\vb{u}\\right)\\quad.$$\n",
    "\n",
    "On a rigid boundary, $u_1$ and $u_2$ are 0, thus the b.c. simplifies. An example is the following, the boundary condition for a rigid boundary with $y=0$ we obtain:\n",
    "$$\\pad{p}{y}=\\rho \\nu \\ppad{u_2}{x_2}\\quad .$$\n",
    "\n",
    "###Finite difference scheme for the boundary nodes\n",
    "\n",
    "To evaluate the above pressure gradient, we need to calculate the second derivative of the velocity on the boundary. Our previous scheme using the central difference does not work here, as we can't evaluate past the boundary. Instead we approximate the second derivative with\n",
    "\n",
    "$$\\left.\\ppad{v}{y}\\right|_{i,j=0}=\\frac{1}{\\Delta y^2}\\left(v_{i,j=0}-2 v_{i,j=1}+v_{i,j=2}\\right)$$"
   ]
  },
  {
   "cell_type": "code",
   "execution_count": null,
   "metadata": {
    "collapsed": true
   },
   "outputs": [],
   "source": [
    "def presPoisson(p, dx, dy,rho,nu,u,v):\n",
    "    pn = np.empty_like(p)\n",
    "    pn = p.copy()\n",
    "    b = np.zeros((ny, nx))\n",
    "    \n",
    "    #Term in square brackets\n",
    "    b[1:-1,1:-1]=rho*(1/dt*((u[1:-1,2:]-u[1:-1,0:-2])/(2*dx)+(v[2:,1:-1]-v[0:-2,1:-1])/(2*dy))-\\\n",
    "                 ((u[1:-1,2:]-u[1:-1,0:-2])/(2*dx))**2-\\\n",
    "                 2*((u[2:,1:-1]-u[0:-2,1:-1])/(2*dy)*(v[1:-1,2:]-v[1:-1,0:-2])/(2*dx))-\\\n",
    "                 ((v[2:,1:-1]-v[0:-2,1:-1])/(2*dy))**2)\n",
    "\n",
    "    for q in range(nit):\n",
    "        pn = p.copy()\n",
    "        p[1:-1,1:-1] = ((pn[1:-1,2:]+pn[1:-1,0:-2])*dy**2+(pn[2:,1:-1]+pn[0:-2,1:-1])*dx**2)/\\\n",
    "                        (2*(dx**2+dy**2)) -\\\n",
    "                        dx**2*dy**2/(2*(dx**2+dy**2))*b[1:-1,1:-1]\n",
    "        #Have to be corrected!\n",
    "        \n",
    "        #p[-1,:] =p[-2,:] ##dp/dy = 0 at y = 2\n",
    "        p[-1,:] = p[-2,:] - rho*nu/dy*(v[-1,:]-2*v[-2,:]+v[-3,:])\n",
    "        \n",
    "        #p[0,:] = p[1,:]  ##dp/dy = 0 at y = 0\n",
    "        p[0,:] = p[1,:] - rho*nu/dy*(v[0,:]-2*v[1,:]+v[2,:])\n",
    "        \n",
    "        #p[:,0]=p[:,1]    ##dp/dx = 0 at x = 0\n",
    "        p[:,0] = p[:,1] - rho*nu/dx*(u[:,0]-2*u[:,1]+u[:,2])\n",
    "        \n",
    "        #p[:,-1]=p[:,-2]  #dp/dy =0 at y = 2\n",
    "        p[:,-1] = p[:,-2] - rho*nu/dx*(u[:,-1]-2*u[:,-2]+u[:,-3]) \n",
    "        \n",
    "        #not sure if this is necessary\n",
    "        #p[0,-1] = 0.     #fix pressure at \n",
    "        p[ny/2,nx/2]=0.\n",
    "        \n",
    "    return p"
   ]
  },
  {
   "cell_type": "markdown",
   "metadata": {},
   "source": [
    "Then we calculate the velocity field $\\vb{u}^{n+1}$ using the above calculated pressure field.\n",
    "\n",
    "The momentum equation in the $u$ direction:\n",
    "\n",
    "$$\n",
    "u_{i,j}^{n+1} = u_{i,j}^{n} - u_{i,j}^{n}\\frac{\\Delta t}{\\Delta x}(u_{i,j}^{n}-u_{i-1,j}^{n})\n",
    "- v_{i,j}^{n}\\frac{\\Delta t}{\\Delta y}(u_{i,j}^{n}-u_{i,j-1}^{n})$$\n",
    "$$-\\frac{\\Delta t}{\\rho 2\\Delta x}(p_{i+1,j}^{n}-p_{i-1,j}^{n})\n",
    "+\\nu\\left(\\frac{\\Delta t}{\\Delta x^2}(u_{i+1,j}^{n}-2u_{i,j}^{n}+u_{i-1,j}^{n})\\right.\n",
    "+\\left.\\frac{\\Delta t}{\\Delta y^2}(u_{i,j+1}^{n}-2u_{i,j}^{n}+u_{i,j-1}^{n})\\right)\n",
    "$$\n",
    "\n",
    "The momentum equation in the $v$ direction:\n",
    "\n",
    "$$v_{i,j}^{n+1} = v_{i,j}^{n}-u_{i,j}^{n}\\frac{\\Delta t}{\\Delta x}(v_{i,j}^{n}-v_{i-1,j}^{n})\n",
    "- v_{i,j}^{n}\\frac{\\Delta t}{\\Delta y}(v_{i,j}^{n}-v_{i,j-1}^{n})$$\n",
    "$$\n",
    "-\\frac{\\Delta t}{\\rho 2\\Delta y}(p_{i,j+1}^{n}-p_{i,j-1}^{n})\n",
    "+\\nu\\left(\\frac{\\Delta t}{\\Delta x^2}(v_{i+1,j}^{n}-2v_{i,j}^{n}+v_{i-1,j}^{n})\\right.\n",
    "+\\left.\\frac{\\Delta t}{\\Delta y^2}(v_{i,j+1}^{n}-2v_{i,j}^{n}+v_{i,j-1}^{n})\\right)$$"
   ]
  },
  {
   "cell_type": "code",
   "execution_count": null,
   "metadata": {
    "collapsed": true
   },
   "outputs": [],
   "source": [
    "def cavityFlow(nt, u, v, dt, dx, dy, p, rho, nu):\n",
    "    un = np.empty_like(u)\n",
    "    vn = np.empty_like(v)\n",
    "    \n",
    "    \n",
    "    for n in range(nt):\n",
    "        un = u.copy()\n",
    "        vn = v.copy()\n",
    "        \n",
    "        p = presPoisson(p, dx, dy, rho, nu, u, v)\n",
    "        \n",
    "        u[1:-1,1:-1] = un[1:-1,1:-1]-\\\n",
    "                        un[1:-1,1:-1]*dt/dx*(un[1:-1,1:-1]-un[1:-1,0:-2])-\\\n",
    "                        vn[1:-1,1:-1]*dt/dy*(un[1:-1,1:-1]-un[0:-2,1:-1])-\\\n",
    "                        dt/(2*rho*dx)*(p[1:-1,2:]-p[1:-1,0:-2])+\\\n",
    "                        nu*(dt/dx**2*(un[1:-1,2:]-2*un[1:-1,1:-1]+un[1:-1,0:-2])+\\\n",
    "                        dt/dy**2*(un[2:,1:-1]-2*un[1:-1,1:-1]+un[0:-2,1:-1]))\n",
    "\n",
    "        v[1:-1,1:-1] = vn[1:-1,1:-1]-\\\n",
    "                        un[1:-1,1:-1]*dt/dx*(vn[1:-1,1:-1]-vn[1:-1,0:-2])-\\\n",
    "                        vn[1:-1,1:-1]*dt/dy*(vn[1:-1,1:-1]-vn[0:-2,1:-1])-\\\n",
    "                        dt/(2*rho*dy)*(p[2:,1:-1]-p[0:-2,1:-1])+\\\n",
    "                        nu*(dt/dx**2*(vn[1:-1,2:]-2*vn[1:-1,1:-1]+vn[1:-1,0:-2])+\\\n",
    "                        (dt/dy**2*(vn[2:,1:-1]-2*vn[1:-1,1:-1]+vn[0:-2,1:-1])))\n",
    "\n",
    "        u[0,:] = 0\n",
    "        u[:,0] = 0\n",
    "        u[:,-1] = 0\n",
    "        u[-1,:] = Uwall    #set velocity on cavity lid equal to 1\n",
    "        v[0,:] = 0\n",
    "        v[-1,:]=0\n",
    "        v[:,0] = 0\n",
    "        v[:,-1] = 0\n",
    "        \n",
    "        \n",
    "    return u, v, p"
   ]
  },
  {
   "cell_type": "code",
   "execution_count": null,
   "metadata": {
    "collapsed": false
   },
   "outputs": [],
   "source": [
    "nx = 21\n",
    "ny = 21\n",
    "nt = 1000\n",
    "nit=50\n",
    "Uwall=5\n",
    "#c = 1\n",
    "dx = 2.0/(nx-1)\n",
    "dy = 2.0/(ny-1)\n",
    "x = np.linspace(0,2,nx)\n",
    "y = np.linspace(0,2,ny)\n",
    "X,Y = np.meshgrid(x,y)\n",
    "\n",
    "rho = 1\n",
    "nu = 0.1\n",
    "dt = .02\n",
    "\n",
    "u = np.zeros((ny, nx))\n",
    "v = np.zeros((ny, nx))\n",
    "p = np.zeros((ny, nx)) \n",
    "\n",
    "u, v, p = cavityFlow(nt, u, v, dt, dx, dy, p, rho, nu)\n",
    "fig = plt.figure(figsize=(11,7), dpi=100)\n",
    "plt.contourf(X,Y,p,alpha=0.5)    ###plotting the pressure field as a contour\n",
    "plt.colorbar()\n",
    "plt.contour(X,Y,p)               ###plotting the pressure field outlines\n",
    "plt.quiver(X,Y,u,v) ##plotting velocity\n",
    "plt.xlabel('X')\n",
    "plt.ylabel('Y');"
   ]
  },
  {
   "cell_type": "code",
   "execution_count": null,
   "metadata": {
    "collapsed": false
   },
   "outputs": [],
   "source": [
    "plt.streamplot(x,y,u,v)"
   ]
  },
  {
   "cell_type": "code",
   "execution_count": null,
   "metadata": {
    "collapsed": true
   },
   "outputs": [],
   "source": []
  }
 ],
 "metadata": {
  "kernelspec": {
   "display_name": "Python 2",
   "language": "python",
   "name": "python2"
  },
  "language_info": {
   "codemirror_mode": {
    "name": "ipython",
    "version": 2
   },
   "file_extension": ".py",
   "mimetype": "text/x-python",
   "name": "python",
   "nbconvert_exporter": "python",
   "pygments_lexer": "ipython2",
   "version": "2.7.10"
  }
 },
 "nbformat": 4,
 "nbformat_minor": 0
}
