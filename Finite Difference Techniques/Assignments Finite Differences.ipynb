{
 "cells": [
  {
   "cell_type": "markdown",
   "metadata": {},
   "source": [
    "#Assignments for the Finite Difference Techniques\n",
    "\n",
    "Please prepare an ipython notebook for any of the 4 problems which contain the problem statement, the outline of the program, the program code, comparison with theory (if possible) or any other method to check for validity of the program, and results in form of picture and videos. Please upload the ipython notebook onto github and send me the link. Your code must be made available to me latest by 10.9.2015 12pm to be graded. \n",
    "Each assignment must be the result of the full understanding and the write-up of the person who hands in the assignment. You may discuss problems with anybody, yet the worked out notebook must be your work. Any references or code fragments taken from other sources must be referenced.\n",
    "\n",
    "\n",
    "##Vorticity-Streamfunction formulation\n",
    "\n",
    "###1. Vortex Dynamics\n",
    "Diffusion of a single and merging of two vortices. You may start with in initial Gaussian vorticity distribution of\n",
    "\n",
    "$$\\omega(x,y)=\\frac{\\Gamma}{\\pi a_0^2}\\exp \\left(-\\frac{(x-x_0)^2+(y-y_0)^2}{a^2_0}\\right)$$.\n",
    "\n",
    "Please use periodic boundary conditions for $\\Psi$ and $\\omega$. Study the effect of viscosity on the growth of the vortex.\n",
    "\n",
    "###2. Start-up problem of a sinusoidal oscillating boundary\n",
    "A boundary a $x=0$ starts to oscillate at time $t=0$ with a velocity $u(x=0)=U_0 \\sin(2\\pi f t)$. The domain is infinte in all directions except for $x<0$. Discuss the long time behaviour $t>>f^{-1}$ by comparing it an analystical solution. There may exist an analytical solution also for the start-up time.\n",
    "\n",
    "##Velocity-Pressure formulation\n",
    "\n",
    "###3. Inflow and outflow\n",
    "Study the outflow of liquid coming out of a initial tube with gap height $h_1$ into $h_2$ where $h_2\\geq 4 h_1$. Compare this flow pattern with a flow in the opposite direction. Use suitable boundary conditions for the inflow and pressure. Vary the Re number between 0.01 and 100. What do you observe\n",
    "\n",
    "###4. Flow across past an obstacle\n",
    "Calculate the flow past a rectangular obstacle. The flow may be within a channel or in an infinte domain. The obstacle can be a rectangular or square object. Vary the Reynolds number and discuss the formation of a wave and the onset of an oscillating instability.\n",
    "\n",
    "\n",
    "\n",
    "\n"
   ]
  },
  {
   "cell_type": "code",
   "execution_count": null,
   "metadata": {
    "collapsed": true
   },
   "outputs": [],
   "source": []
  }
 ],
 "metadata": {
  "kernelspec": {
   "display_name": "Python 2",
   "language": "python",
   "name": "python2"
  },
  "language_info": {
   "codemirror_mode": {
    "name": "ipython",
    "version": 2
   },
   "file_extension": ".py",
   "mimetype": "text/x-python",
   "name": "python",
   "nbconvert_exporter": "python",
   "pygments_lexer": "ipython2",
   "version": "2.7.10"
  }
 },
 "nbformat": 4,
 "nbformat_minor": 0
}
