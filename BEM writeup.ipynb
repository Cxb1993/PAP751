{
 "cells": [
  {
   "cell_type": "markdown",
   "metadata": {},
   "source": [
    "## 3. Boundary element method"
   ]
  },
  {
   "cell_type": "markdown",
   "metadata": {},
   "source": [
    "The boundary element method is one of the most computationally efficient methods of solving boundary value partial differential equations. \n",
    "\n",
    "Methods like finite differences and the finite volume method require all the discretised points in a computational domain to be solved at once. With the boundary element method, only the points on the *boundary* of the domain are discretised. This makes the BEM extremely useful in applications where large or infinite domains are required. Implementation-wise, it is also relatively simple to code and debug, certainly as compared to the finite volume method, where (at a guess) one has to discretise about 50 derivatives. \n",
    "\n",
    "There are several big downsides of the BEM, however. First, one has to work with homogeneous, linear PDEs with a known fundamental solution. In fluid dynamics, this equation is the Laplace equation $\\nabla^2 \\phi = 0$, which holds in the case that the liquid is inviscid and incompressible. The second is that the integrals that are solved in BEM are often singular, meaning that the solution often blows up to infinity. It is a bit of an art to handle these singularities. \n",
    "\n",
    "In these notebooks we show the basics of the BEM solution under 2D Cartesian coordinates and axisymmetry. Here we have only solved well-behaved problems, so there is no treatment of singular integrals. The notation we use is based on chapter 1 of [Ang Whye Teong's textbook](http://www.ntu.edu.sg/home/mwtang/bem2011.html) (this chapter is available for free on his Web site). The codes are ports of Fortran codes written by Ang Whye Teong and Pablo Suarez. "
   ]
  },
  {
   "cell_type": "markdown",
   "metadata": {},
   "source": [
    "### 3.1 Laplace equation in 2D\n",
    "\n",
    "Start with [this notebook](http://nbviewer.ipython.org/github/cdohl/PAP751/blob/master/Boundary%20Element%20Method/Introduction%20Laplace.ipynb) to learn more about solving the two-dimensional Laplace equation. The notebook follows Ang closely and describes the discretisation of the boundary and the setup of the solution matrix. It is recommended to start with this notebook even if you want to work in another geometry eventually, since much of the solution scheme is common to all BEM solutions. The main changes lie in geometry-unique integrals. \n",
    "\n",
    "### 3.2 Laplace equation in axisymmetry\n",
    "\n",
    "The solution of the Laplace equation in axisymmetry is solved in a similar fashion, except that to derive the integrals for solution one must start with the 3D Laplace equation and generalise it to cylindrical coordinates. The full mathematical details are available in this [set of notes from Ang](http://www.ntu.edu.sg/home/mwtang/axisbem.pdf). "
   ]
  }
 ],
 "metadata": {
  "kernelspec": {
   "display_name": "Python 2",
   "language": "python",
   "name": "python2"
  },
  "language_info": {
   "codemirror_mode": {
    "name": "ipython",
    "version": 2
   },
   "file_extension": ".py",
   "mimetype": "text/x-python",
   "name": "python",
   "nbconvert_exporter": "python",
   "pygments_lexer": "ipython2",
   "version": "2.7.9"
  }
 },
 "nbformat": 4,
 "nbformat_minor": 0
}
